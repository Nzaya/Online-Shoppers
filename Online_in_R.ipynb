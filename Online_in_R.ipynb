{
  "nbformat": 4,
  "nbformat_minor": 0,
  "metadata": {
    "kernelspec": {
      "display_name": "R",
      "language": "R",
      "name": "ir"
    },
    "language_info": {
      "codemirror_mode": "r",
      "file_extension": ".r",
      "mimetype": "text/x-r-source",
      "name": "R",
      "pygments_lexer": "r",
      "version": "3.6.1"
    },
    "colab": {
      "name": "Online in R.ipynb",
      "provenance": [],
      "include_colab_link": true
    }
  },
  "cells": [
    {
      "cell_type": "markdown",
      "metadata": {
        "id": "view-in-github",
        "colab_type": "text"
      },
      "source": [
        "<a href=\"https://colab.research.google.com/github/Nzaya/Online-Shoppers/blob/master/Online_in_R.ipynb\" target=\"_parent\"><img src=\"https://colab.research.google.com/assets/colab-badge.svg\" alt=\"Open In Colab\"/></a>"
      ]
    },
    {
      "cell_type": "markdown",
      "metadata": {
        "id": "J3hKjF6dDR73",
        "colab_type": "text"
      },
      "source": [
        "# QUESTION\n",
        "\n",
        "Kira Plastinina  is a Russian brand that is sold through a defunct chain of retail stores in Russia, Ukraine, Kazakhstan, Belarus, China, Philippines, and Armenia. The brand’s Sales and Marketing team would like to understand their customer’s behavior from data that they have collected over the past year. More specifically, they would like to **learn the characteristics of customer groups.**\n",
        "\n",
        "Perform clustering and dimensionality reduction stating insights drawn from your analysis and visualizations.\n",
        "\n",
        "Upon implementation, provide comparisons between the approaches learned this week i.e. K-Means clustering vs Hierarchical clustering, PCA vs t SNE highlighting the strengths and limitations of each approach in the context of your analysis."
      ]
    },
    {
      "cell_type": "markdown",
      "metadata": {
        "id": "UtAvIj8aCo2g",
        "colab_type": "text"
      },
      "source": [
        "# INSTALLING R PACKAGES"
      ]
    },
    {
      "cell_type": "code",
      "metadata": {
        "id": "aiXIEIe85tBt",
        "colab_type": "code",
        "outputId": "8711f7c2-26ab-4af6-bb68-cc9e23c2667f",
        "colab": {
          "base_uri": "https://localhost:8080/",
          "height": 51
        }
      },
      "source": [
        "#Installing packages\n",
        "\n",
        "install.packages('data.table')"
      ],
      "execution_count": 0,
      "outputs": [
        {
          "output_type": "stream",
          "text": [
            "Installing package into ‘/usr/local/lib/R/site-library’\n",
            "(as ‘lib’ is unspecified)\n"
          ],
          "name": "stderr"
        }
      ]
    },
    {
      "cell_type": "code",
      "metadata": {
        "id": "0NmKSh6y6lmH",
        "colab_type": "code",
        "outputId": "75d2e5e8-c504-4d60-ae1a-10e36efca5e5",
        "colab": {
          "base_uri": "https://localhost:8080/",
          "height": 51
        }
      },
      "source": [
        "install.packages('tidyverse')"
      ],
      "execution_count": 0,
      "outputs": [
        {
          "output_type": "stream",
          "text": [
            "Installing package into ‘/usr/local/lib/R/site-library’\n",
            "(as ‘lib’ is unspecified)\n"
          ],
          "name": "stderr"
        }
      ]
    },
    {
      "cell_type": "code",
      "metadata": {
        "id": "msvS9CrL8uS4",
        "colab_type": "code",
        "outputId": "94ec04a9-7f8c-492e-a870-263595b0f443",
        "colab": {
          "base_uri": "https://localhost:8080/",
          "height": 85
        }
      },
      "source": [
        "install.packages('DataExplorer')"
      ],
      "execution_count": 0,
      "outputs": [
        {
          "output_type": "stream",
          "text": [
            "Installing package into ‘/usr/local/lib/R/site-library’\n",
            "(as ‘lib’ is unspecified)\n",
            "also installing the dependencies ‘igraph’, ‘gridExtra’, ‘networkD3’\n",
            "\n"
          ],
          "name": "stderr"
        }
      ]
    },
    {
      "cell_type": "code",
      "metadata": {
        "id": "YyBTi-V2-Wj0",
        "colab_type": "code",
        "outputId": "b2fb3a2d-0c4f-4009-b97b-169678b0d71c",
        "colab": {
          "base_uri": "https://localhost:8080/",
          "height": 51
        }
      },
      "source": [
        "install.packages('magrittr')"
      ],
      "execution_count": 0,
      "outputs": [
        {
          "output_type": "stream",
          "text": [
            "Installing package into ‘/usr/local/lib/R/site-library’\n",
            "(as ‘lib’ is unspecified)\n"
          ],
          "name": "stderr"
        }
      ]
    },
    {
      "cell_type": "code",
      "metadata": {
        "id": "bReZY-00_AIS",
        "colab_type": "code",
        "outputId": "30f8b31b-c4fc-4c4a-cd8b-e42ce7c57582",
        "colab": {
          "base_uri": "https://localhost:8080/",
          "height": 51
        }
      },
      "source": [
        "install.packages('dplyr')"
      ],
      "execution_count": 0,
      "outputs": [
        {
          "output_type": "stream",
          "text": [
            "Installing package into ‘/usr/local/lib/R/site-library’\n",
            "(as ‘lib’ is unspecified)\n"
          ],
          "name": "stderr"
        }
      ]
    },
    {
      "cell_type": "code",
      "metadata": {
        "id": "iLsAbEgcBFCq",
        "colab_type": "code",
        "outputId": "269b7ebf-f3e1-4d21-997f-3fa82275ee39",
        "colab": {
          "base_uri": "https://localhost:8080/",
          "height": 51
        }
      },
      "source": [
        "install.packages('readr')"
      ],
      "execution_count": 0,
      "outputs": [
        {
          "output_type": "stream",
          "text": [
            "Installing package into ‘/usr/local/lib/R/site-library’\n",
            "(as ‘lib’ is unspecified)\n"
          ],
          "name": "stderr"
        }
      ]
    },
    {
      "cell_type": "code",
      "metadata": {
        "id": "pC7FAmhIBzot",
        "colab_type": "code",
        "outputId": "d144ba28-c614-4b66-b644-e683e5c06351",
        "colab": {
          "base_uri": "https://localhost:8080/",
          "height": 51
        }
      },
      "source": [
        "install.packages('ggplot2')"
      ],
      "execution_count": 0,
      "outputs": [
        {
          "output_type": "stream",
          "text": [
            "Installing package into ‘/usr/local/lib/R/site-library’\n",
            "(as ‘lib’ is unspecified)\n"
          ],
          "name": "stderr"
        }
      ]
    },
    {
      "cell_type": "markdown",
      "metadata": {
        "id": "Smsez7BxC1hg",
        "colab_type": "text"
      },
      "source": [
        "# LOADING THE DATASET"
      ]
    },
    {
      "cell_type": "code",
      "metadata": {
        "id": "r7jv2V6m2wHl",
        "colab_type": "code",
        "outputId": "18d80887-7bd7-4ed5-abac-f40870108aaf",
        "colab": {
          "base_uri": "https://localhost:8080/",
          "height": 224
        }
      },
      "source": [
        "#Loading the dataset\n",
        "\n",
        "library('data.table')\n",
        "online= fread('http://bit.ly/EcommerceCustomersDataset')\n",
        "head(online)"
      ],
      "execution_count": 0,
      "outputs": [
        {
          "output_type": "display_data",
          "data": {
            "text/plain": [
              "  Administrative Administrative_Duration Informational Informational_Duration\n",
              "1 0               0                      0              0                    \n",
              "2 0               0                      0              0                    \n",
              "3 0              -1                      0             -1                    \n",
              "4 0               0                      0              0                    \n",
              "5 0               0                      0              0                    \n",
              "6 0               0                      0              0                    \n",
              "  ProductRelated ProductRelated_Duration BounceRates ExitRates PageValues\n",
              "1  1               0.000000              0.20000000  0.2000000 0         \n",
              "2  2              64.000000              0.00000000  0.1000000 0         \n",
              "3  1              -1.000000              0.20000000  0.2000000 0         \n",
              "4  2               2.666667              0.05000000  0.1400000 0         \n",
              "5 10             627.500000              0.02000000  0.0500000 0         \n",
              "6 19             154.216667              0.01578947  0.0245614 0         \n",
              "  SpecialDay Month OperatingSystems Browser Region TrafficType\n",
              "1 0          Feb   1                1       1      1          \n",
              "2 0          Feb   2                2       1      2          \n",
              "3 0          Feb   4                1       9      3          \n",
              "4 0          Feb   3                2       2      4          \n",
              "5 0          Feb   3                3       1      4          \n",
              "6 0          Feb   2                2       1      3          \n",
              "  VisitorType       Weekend Revenue\n",
              "1 Returning_Visitor FALSE   FALSE  \n",
              "2 Returning_Visitor FALSE   FALSE  \n",
              "3 Returning_Visitor FALSE   FALSE  \n",
              "4 Returning_Visitor FALSE   FALSE  \n",
              "5 Returning_Visitor  TRUE   FALSE  \n",
              "6 Returning_Visitor FALSE   FALSE  "
            ],
            "text/latex": "A data.table: 6 × 18\n\\begin{tabular}{r|llllllllllllllllll}\n Administrative & Administrative\\_Duration & Informational & Informational\\_Duration & ProductRelated & ProductRelated\\_Duration & BounceRates & ExitRates & PageValues & SpecialDay & Month & OperatingSystems & Browser & Region & TrafficType & VisitorType & Weekend & Revenue\\\\\n <int> & <dbl> & <int> & <dbl> & <int> & <dbl> & <dbl> & <dbl> & <dbl> & <dbl> & <chr> & <int> & <int> & <int> & <int> & <chr> & <lgl> & <lgl>\\\\\n\\hline\n\t 0 &  0 & 0 &  0 &  1 &   0.000000 & 0.20000000 & 0.2000000 & 0 & 0 & Feb & 1 & 1 & 1 & 1 & Returning\\_Visitor & FALSE & FALSE\\\\\n\t 0 &  0 & 0 &  0 &  2 &  64.000000 & 0.00000000 & 0.1000000 & 0 & 0 & Feb & 2 & 2 & 1 & 2 & Returning\\_Visitor & FALSE & FALSE\\\\\n\t 0 & -1 & 0 & -1 &  1 &  -1.000000 & 0.20000000 & 0.2000000 & 0 & 0 & Feb & 4 & 1 & 9 & 3 & Returning\\_Visitor & FALSE & FALSE\\\\\n\t 0 &  0 & 0 &  0 &  2 &   2.666667 & 0.05000000 & 0.1400000 & 0 & 0 & Feb & 3 & 2 & 2 & 4 & Returning\\_Visitor & FALSE & FALSE\\\\\n\t 0 &  0 & 0 &  0 & 10 & 627.500000 & 0.02000000 & 0.0500000 & 0 & 0 & Feb & 3 & 3 & 1 & 4 & Returning\\_Visitor &  TRUE & FALSE\\\\\n\t 0 &  0 & 0 &  0 & 19 & 154.216667 & 0.01578947 & 0.0245614 & 0 & 0 & Feb & 2 & 2 & 1 & 3 & Returning\\_Visitor & FALSE & FALSE\\\\\n\\end{tabular}\n",
            "text/markdown": "\nA data.table: 6 × 18\n\n| Administrative &lt;int&gt; | Administrative_Duration &lt;dbl&gt; | Informational &lt;int&gt; | Informational_Duration &lt;dbl&gt; | ProductRelated &lt;int&gt; | ProductRelated_Duration &lt;dbl&gt; | BounceRates &lt;dbl&gt; | ExitRates &lt;dbl&gt; | PageValues &lt;dbl&gt; | SpecialDay &lt;dbl&gt; | Month &lt;chr&gt; | OperatingSystems &lt;int&gt; | Browser &lt;int&gt; | Region &lt;int&gt; | TrafficType &lt;int&gt; | VisitorType &lt;chr&gt; | Weekend &lt;lgl&gt; | Revenue &lt;lgl&gt; |\n|---|---|---|---|---|---|---|---|---|---|---|---|---|---|---|---|---|---|\n| 0 |  0 | 0 |  0 |  1 |   0.000000 | 0.20000000 | 0.2000000 | 0 | 0 | Feb | 1 | 1 | 1 | 1 | Returning_Visitor | FALSE | FALSE |\n| 0 |  0 | 0 |  0 |  2 |  64.000000 | 0.00000000 | 0.1000000 | 0 | 0 | Feb | 2 | 2 | 1 | 2 | Returning_Visitor | FALSE | FALSE |\n| 0 | -1 | 0 | -1 |  1 |  -1.000000 | 0.20000000 | 0.2000000 | 0 | 0 | Feb | 4 | 1 | 9 | 3 | Returning_Visitor | FALSE | FALSE |\n| 0 |  0 | 0 |  0 |  2 |   2.666667 | 0.05000000 | 0.1400000 | 0 | 0 | Feb | 3 | 2 | 2 | 4 | Returning_Visitor | FALSE | FALSE |\n| 0 |  0 | 0 |  0 | 10 | 627.500000 | 0.02000000 | 0.0500000 | 0 | 0 | Feb | 3 | 3 | 1 | 4 | Returning_Visitor |  TRUE | FALSE |\n| 0 |  0 | 0 |  0 | 19 | 154.216667 | 0.01578947 | 0.0245614 | 0 | 0 | Feb | 2 | 2 | 1 | 3 | Returning_Visitor | FALSE | FALSE |\n\n",
            "text/html": [
              "<table>\n",
              "<caption>A data.table: 6 × 18</caption>\n",
              "<thead>\n",
              "\t<tr><th scope=col>Administrative</th><th scope=col>Administrative_Duration</th><th scope=col>Informational</th><th scope=col>Informational_Duration</th><th scope=col>ProductRelated</th><th scope=col>ProductRelated_Duration</th><th scope=col>BounceRates</th><th scope=col>ExitRates</th><th scope=col>PageValues</th><th scope=col>SpecialDay</th><th scope=col>Month</th><th scope=col>OperatingSystems</th><th scope=col>Browser</th><th scope=col>Region</th><th scope=col>TrafficType</th><th scope=col>VisitorType</th><th scope=col>Weekend</th><th scope=col>Revenue</th></tr>\n",
              "\t<tr><th scope=col>&lt;int&gt;</th><th scope=col>&lt;dbl&gt;</th><th scope=col>&lt;int&gt;</th><th scope=col>&lt;dbl&gt;</th><th scope=col>&lt;int&gt;</th><th scope=col>&lt;dbl&gt;</th><th scope=col>&lt;dbl&gt;</th><th scope=col>&lt;dbl&gt;</th><th scope=col>&lt;dbl&gt;</th><th scope=col>&lt;dbl&gt;</th><th scope=col>&lt;chr&gt;</th><th scope=col>&lt;int&gt;</th><th scope=col>&lt;int&gt;</th><th scope=col>&lt;int&gt;</th><th scope=col>&lt;int&gt;</th><th scope=col>&lt;chr&gt;</th><th scope=col>&lt;lgl&gt;</th><th scope=col>&lt;lgl&gt;</th></tr>\n",
              "</thead>\n",
              "<tbody>\n",
              "\t<tr><td>0</td><td> 0</td><td>0</td><td> 0</td><td> 1</td><td>  0.000000</td><td>0.20000000</td><td>0.2000000</td><td>0</td><td>0</td><td>Feb</td><td>1</td><td>1</td><td>1</td><td>1</td><td>Returning_Visitor</td><td>FALSE</td><td>FALSE</td></tr>\n",
              "\t<tr><td>0</td><td> 0</td><td>0</td><td> 0</td><td> 2</td><td> 64.000000</td><td>0.00000000</td><td>0.1000000</td><td>0</td><td>0</td><td>Feb</td><td>2</td><td>2</td><td>1</td><td>2</td><td>Returning_Visitor</td><td>FALSE</td><td>FALSE</td></tr>\n",
              "\t<tr><td>0</td><td>-1</td><td>0</td><td>-1</td><td> 1</td><td> -1.000000</td><td>0.20000000</td><td>0.2000000</td><td>0</td><td>0</td><td>Feb</td><td>4</td><td>1</td><td>9</td><td>3</td><td>Returning_Visitor</td><td>FALSE</td><td>FALSE</td></tr>\n",
              "\t<tr><td>0</td><td> 0</td><td>0</td><td> 0</td><td> 2</td><td>  2.666667</td><td>0.05000000</td><td>0.1400000</td><td>0</td><td>0</td><td>Feb</td><td>3</td><td>2</td><td>2</td><td>4</td><td>Returning_Visitor</td><td>FALSE</td><td>FALSE</td></tr>\n",
              "\t<tr><td>0</td><td> 0</td><td>0</td><td> 0</td><td>10</td><td>627.500000</td><td>0.02000000</td><td>0.0500000</td><td>0</td><td>0</td><td>Feb</td><td>3</td><td>3</td><td>1</td><td>4</td><td>Returning_Visitor</td><td> TRUE</td><td>FALSE</td></tr>\n",
              "\t<tr><td>0</td><td> 0</td><td>0</td><td> 0</td><td>19</td><td>154.216667</td><td>0.01578947</td><td>0.0245614</td><td>0</td><td>0</td><td>Feb</td><td>2</td><td>2</td><td>1</td><td>3</td><td>Returning_Visitor</td><td>FALSE</td><td>FALSE</td></tr>\n",
              "</tbody>\n",
              "</table>\n"
            ]
          },
          "metadata": {
            "tags": []
          }
        }
      ]
    },
    {
      "cell_type": "markdown",
      "metadata": {
        "id": "bzrl19vlCh09",
        "colab_type": "text"
      },
      "source": [
        "# FEATURE ENGINEERING\n"
      ]
    },
    {
      "cell_type": "code",
      "metadata": {
        "id": "SyvURw7o35ZR",
        "colab_type": "code",
        "outputId": "68fec605-b44a-40b6-bb60-4b6fe0e29dcb",
        "colab": {
          "base_uri": "https://localhost:8080/",
          "height": 79
        }
      },
      "source": [
        "#Checking the size of our dataset\n",
        "\n",
        "dim(online)"
      ],
      "execution_count": 0,
      "outputs": [
        {
          "output_type": "display_data",
          "data": {
            "text/plain": [
              "[1] 12330    18"
            ],
            "text/latex": "\\begin{enumerate*}\n\\item 12330\n\\item 18\n\\end{enumerate*}\n",
            "text/markdown": "1. 12330\n2. 18\n\n\n",
            "text/html": [
              "<ol class=list-inline>\n",
              "\t<li>12330</li>\n",
              "\t<li>18</li>\n",
              "</ol>\n"
            ]
          },
          "metadata": {
            "tags": []
          }
        }
      ]
    },
    {
      "cell_type": "code",
      "metadata": {
        "id": "-4T9_jSj35c_",
        "colab_type": "code",
        "outputId": "eb27856e-4174-4000-85a8-1e543e3cf5e2",
        "colab": {
          "base_uri": "https://localhost:8080/",
          "height": 612
        }
      },
      "source": [
        "#Description of our dataset\n",
        "library(dplyr)\n",
        "glimpse(online)"
      ],
      "execution_count": 0,
      "outputs": [
        {
          "output_type": "stream",
          "text": [
            "\n",
            "Attaching package: ‘dplyr’\n",
            "\n",
            "The following objects are masked from ‘package:data.table’:\n",
            "\n",
            "    between, first, last\n",
            "\n",
            "The following objects are masked from ‘package:stats’:\n",
            "\n",
            "    filter, lag\n",
            "\n",
            "The following objects are masked from ‘package:base’:\n",
            "\n",
            "    intersect, setdiff, setequal, union\n",
            "\n"
          ],
          "name": "stderr"
        },
        {
          "output_type": "stream",
          "text": [
            "Observations: 12,330\n",
            "Variables: 18\n",
            "$ Administrative          \u001b[3m\u001b[90m<int>\u001b[39m\u001b[23m 0, 0, 0, 0, 0, 0, 0, 1, 0, 0, 0, 0, 0, 0, 0, …\n",
            "$ Administrative_Duration \u001b[3m\u001b[90m<dbl>\u001b[39m\u001b[23m 0, 0, -1, 0, 0, 0, -1, -1, 0, 0, 0, 0, 0, 0, …\n",
            "$ Informational           \u001b[3m\u001b[90m<int>\u001b[39m\u001b[23m 0, 0, 0, 0, 0, 0, 0, 0, 0, 0, 0, 0, 0, 0, 0, …\n",
            "$ Informational_Duration  \u001b[3m\u001b[90m<dbl>\u001b[39m\u001b[23m 0, 0, -1, 0, 0, 0, -1, -1, 0, 0, 0, 0, 0, 0, …\n",
            "$ ProductRelated          \u001b[3m\u001b[90m<int>\u001b[39m\u001b[23m 1, 2, 1, 2, 10, 19, 1, 1, 2, 3, 3, 16, 7, 6, …\n",
            "$ ProductRelated_Duration \u001b[3m\u001b[90m<dbl>\u001b[39m\u001b[23m 0.000000, 64.000000, -1.000000, 2.666667, 627…\n",
            "$ BounceRates             \u001b[3m\u001b[90m<dbl>\u001b[39m\u001b[23m 0.200000000, 0.000000000, 0.200000000, 0.0500…\n",
            "$ ExitRates               \u001b[3m\u001b[90m<dbl>\u001b[39m\u001b[23m 0.200000000, 0.100000000, 0.200000000, 0.1400…\n",
            "$ PageValues              \u001b[3m\u001b[90m<dbl>\u001b[39m\u001b[23m 0, 0, 0, 0, 0, 0, 0, 0, 0, 0, 0, 0, 0, 0, 0, …\n",
            "$ SpecialDay              \u001b[3m\u001b[90m<dbl>\u001b[39m\u001b[23m 0.0, 0.0, 0.0, 0.0, 0.0, 0.0, 0.4, 0.0, 0.8, …\n",
            "$ Month                   \u001b[3m\u001b[90m<chr>\u001b[39m\u001b[23m \"Feb\", \"Feb\", \"Feb\", \"Feb\", \"Feb\", \"Feb\", \"Fe…\n",
            "$ OperatingSystems        \u001b[3m\u001b[90m<int>\u001b[39m\u001b[23m 1, 2, 4, 3, 3, 2, 2, 1, 2, 2, 1, 1, 1, 2, 3, …\n",
            "$ Browser                 \u001b[3m\u001b[90m<int>\u001b[39m\u001b[23m 1, 2, 1, 2, 3, 2, 4, 2, 2, 4, 1, 1, 1, 5, 2, …\n",
            "$ Region                  \u001b[3m\u001b[90m<int>\u001b[39m\u001b[23m 1, 1, 9, 2, 1, 1, 3, 1, 2, 1, 3, 4, 1, 1, 3, …\n",
            "$ TrafficType             \u001b[3m\u001b[90m<int>\u001b[39m\u001b[23m 1, 2, 3, 4, 4, 3, 3, 5, 3, 2, 3, 3, 3, 3, 3, …\n",
            "$ VisitorType             \u001b[3m\u001b[90m<chr>\u001b[39m\u001b[23m \"Returning_Visitor\", \"Returning_Visitor\", \"Re…\n",
            "$ Weekend                 \u001b[3m\u001b[90m<lgl>\u001b[39m\u001b[23m FALSE, FALSE, FALSE, FALSE, TRUE, FALSE, FALS…\n",
            "$ Revenue                 \u001b[3m\u001b[90m<lgl>\u001b[39m\u001b[23m FALSE, FALSE, FALSE, FALSE, FALSE, FALSE, FAL…\n"
          ],
          "name": "stdout"
        }
      ]
    },
    {
      "cell_type": "code",
      "metadata": {
        "id": "U5GxqlI_35l1",
        "colab_type": "code",
        "outputId": "ae41aa7e-6758-4560-cafd-a1023df481ad",
        "colab": {
          "base_uri": "https://localhost:8080/",
          "height": 517
        }
      },
      "source": [
        "#Checking for missing values using the DataExplorer Package\n",
        "\n",
        "options(repr.plot.width=8, repr.plot.height= 4)\n",
        "plot_missing(online)\n"
      ],
      "execution_count": 0,
      "outputs": [
        {
          "output_type": "display_data",
          "data": {
            "image/png": "[encoded data removed]",
            "text/plain": [
              "plot without title"
            ]
          },
          "metadata": {
            "tags": []
          }
        }
      ]
    },
    {
      "cell_type": "code",
      "metadata": {
        "id": "SuVXmG5I35oP",
        "colab_type": "code",
        "outputId": "6b6d0edc-9133-4149-c463-5b4759bd674f",
        "colab": {
          "base_uri": "https://localhost:8080/",
          "height": 79
        }
      },
      "source": [
        "#Omitting the missing values to have a workable dataset\n",
        "\n",
        "online= na.omit(online)\n",
        "\n",
        "#Size of the dataset\n",
        "dim(online)"
      ],
      "execution_count": 0,
      "outputs": [
        {
          "output_type": "display_data",
          "data": {
            "text/plain": [
              "[1] 12316    18"
            ],
            "text/latex": "\\begin{enumerate*}\n\\item 12316\n\\item 18\n\\end{enumerate*}\n",
            "text/markdown": "1. 12316\n2. 18\n\n\n",
            "text/html": [
              "<ol class=list-inline>\n",
              "\t<li>12316</li>\n",
              "\t<li>18</li>\n",
              "</ol>\n"
            ]
          },
          "metadata": {
            "tags": []
          }
        }
      ]
    },
    {
      "cell_type": "code",
      "metadata": {
        "id": "9aq-SR2_35sf",
        "colab_type": "code",
        "outputId": "32046cab-f5d7-4780-afbd-5ff8baedd6b4",
        "colab": {
          "base_uri": "https://localhost:8080/",
          "height": 377
        }
      },
      "source": [
        "# Checking if the data types are correct for each variable.\n",
        "str(online)"
      ],
      "execution_count": 0,
      "outputs": [
        {
          "output_type": "stream",
          "text": [
            "Classes ‘data.table’ and 'data.frame':\t12316 obs. of  18 variables:\n",
            " $ Administrative         : int  0 0 0 0 0 0 0 1 0 0 ...\n",
            " $ Administrative_Duration: num  0 0 -1 0 0 0 -1 -1 0 0 ...\n",
            " $ Informational          : int  0 0 0 0 0 0 0 0 0 0 ...\n",
            " $ Informational_Duration : num  0 0 -1 0 0 0 -1 -1 0 0 ...\n",
            " $ ProductRelated         : int  1 2 1 2 10 19 1 1 2 3 ...\n",
            " $ ProductRelated_Duration: num  0 64 -1 2.67 627.5 ...\n",
            " $ BounceRates            : num  0.2 0 0.2 0.05 0.02 ...\n",
            " $ ExitRates              : num  0.2 0.1 0.2 0.14 0.05 ...\n",
            " $ PageValues             : num  0 0 0 0 0 0 0 0 0 0 ...\n",
            " $ SpecialDay             : num  0 0 0 0 0 0 0.4 0 0.8 0.4 ...\n",
            " $ Month                  : chr  \"Feb\" \"Feb\" \"Feb\" \"Feb\" ...\n",
            " $ OperatingSystems       : int  1 2 4 3 3 2 2 1 2 2 ...\n",
            " $ Browser                : int  1 2 1 2 3 2 4 2 2 4 ...\n",
            " $ Region                 : int  1 1 9 2 1 1 3 1 2 1 ...\n",
            " $ TrafficType            : int  1 2 3 4 4 3 3 5 3 2 ...\n",
            " $ VisitorType            : chr  \"Returning_Visitor\" \"Returning_Visitor\" \"Returning_Visitor\" \"Returning_Visitor\" ...\n",
            " $ Weekend                : logi  FALSE FALSE FALSE FALSE TRUE FALSE ...\n",
            " $ Revenue                : logi  FALSE FALSE FALSE FALSE FALSE FALSE ...\n",
            " - attr(*, \".internal.selfref\")=<externalptr> \n"
          ],
          "name": "stdout"
        }
      ]
    },
    {
      "cell_type": "code",
      "metadata": {
        "id": "DrFfHI1h35vh",
        "colab_type": "code",
        "colab": {}
      },
      "source": [
        "# Factor variables changed to their appropriate data type.\n",
        "\n",
        "online$OperatingSystems=as.factor(online$OperatingSystems)\n",
        "online$Browser=as.factor(online$Browser)\n",
        "online$Region=as.factor(online$Region)\n",
        "online$Weekend=as.factor(online$Weekend)\n",
        "online$Revenue=as.factor(online$Revenue)\n",
        "online$SpecialDay=as.factor(online$SpecialDay)"
      ],
      "execution_count": 0,
      "outputs": []
    },
    {
      "cell_type": "code",
      "metadata": {
        "id": "Wi6WJF1q355Q",
        "colab_type": "code",
        "outputId": "a12112d8-bfc3-4e6e-e42e-5e115b457645",
        "colab": {
          "base_uri": "https://localhost:8080/",
          "height": 377
        }
      },
      "source": [
        "# Confirming the transformation\n",
        "\n",
        "str(online)"
      ],
      "execution_count": 0,
      "outputs": [
        {
          "output_type": "stream",
          "text": [
            "Classes ‘data.table’ and 'data.frame':\t12316 obs. of  18 variables:\n",
            " $ Administrative         : int  0 0 0 0 0 0 0 1 0 0 ...\n",
            " $ Administrative_Duration: num  0 0 -1 0 0 0 -1 -1 0 0 ...\n",
            " $ Informational          : int  0 0 0 0 0 0 0 0 0 0 ...\n",
            " $ Informational_Duration : num  0 0 -1 0 0 0 -1 -1 0 0 ...\n",
            " $ ProductRelated         : int  1 2 1 2 10 19 1 1 2 3 ...\n",
            " $ ProductRelated_Duration: num  0 64 -1 2.67 627.5 ...\n",
            " $ BounceRates            : num  0.2 0 0.2 0.05 0.02 ...\n",
            " $ ExitRates              : num  0.2 0.1 0.2 0.14 0.05 ...\n",
            " $ PageValues             : num  0 0 0 0 0 0 0 0 0 0 ...\n",
            " $ SpecialDay             : Factor w/ 6 levels \"0\",\"0.2\",\"0.4\",..: 1 1 1 1 1 1 3 1 5 3 ...\n",
            " $ Month                  : chr  \"Feb\" \"Feb\" \"Feb\" \"Feb\" ...\n",
            " $ OperatingSystems       : Factor w/ 8 levels \"1\",\"2\",\"3\",\"4\",..: 1 2 4 3 3 2 2 1 2 2 ...\n",
            " $ Browser                : Factor w/ 13 levels \"1\",\"2\",\"3\",\"4\",..: 1 2 1 2 3 2 4 2 2 4 ...\n",
            " $ Region                 : Factor w/ 9 levels \"1\",\"2\",\"3\",\"4\",..: 1 1 9 2 1 1 3 1 2 1 ...\n",
            " $ TrafficType            : int  1 2 3 4 4 3 3 5 3 2 ...\n",
            " $ VisitorType            : chr  \"Returning_Visitor\" \"Returning_Visitor\" \"Returning_Visitor\" \"Returning_Visitor\" ...\n",
            " $ Weekend                : Factor w/ 2 levels \"FALSE\",\"TRUE\": 1 1 1 1 2 1 1 2 1 1 ...\n",
            " $ Revenue                : Factor w/ 2 levels \"FALSE\",\"TRUE\": 1 1 1 1 1 1 1 1 1 1 ...\n",
            " - attr(*, \".internal.selfref\")=<externalptr> \n"
          ],
          "name": "stdout"
        }
      ]
    },
    {
      "cell_type": "code",
      "metadata": {
        "id": "rNeVY5bv352B",
        "colab_type": "code",
        "colab": {}
      },
      "source": [
        "#Graph of the month and the Informational Duration\n",
        "\n",
        "options(repr.plot.width=8, repr.plot.height=3)\n",
        "online %>%\n",
        "group_by('Month')%>%\n",
        "summarize(visits= sum(lineTotal)) %>%\n",
        "ggplot(aes(x= Month, y= Informational_Duration)) + geom_line() + geom_smooth(method= 'auto', se= FALSE)\n",
        "+ labs(x= 'Month', y='Informational_Duration', title)\n"
      ],
      "execution_count": 0,
      "outputs": []
    },
    {
      "cell_type": "code",
      "metadata": {
        "id": "mU13mA9Y35yb",
        "colab_type": "code",
        "colab": {}
      },
      "source": [
        ""
      ],
      "execution_count": 0,
      "outputs": []
    },
    {
      "cell_type": "code",
      "metadata": {
        "id": "Nds3XH8g35XK",
        "colab_type": "code",
        "colab": {}
      },
      "source": [
        ""
      ],
      "execution_count": 0,
      "outputs": []
    }
  ]
}